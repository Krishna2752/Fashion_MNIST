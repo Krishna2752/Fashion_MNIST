{
  "nbformat": 4,
  "nbformat_minor": 0,
  "metadata": {
    "colab": {
      "name": "Untitled2.ipynb",
      "provenance": []
    },
    "kernelspec": {
      "name": "python3",
      "display_name": "Python 3"
    },
    "accelerator": "GPU"
  },
  "cells": [
    {
      "cell_type": "code",
      "metadata": {
        "id": "R2dVBgKT20wh",
        "colab_type": "code",
        "colab": {
          "base_uri": "https://localhost:8080/",
          "height": 63
        },
        "outputId": "be65a165-1cdb-4b3c-af7a-d632eaf38ad2"
      },
      "source": [
        "import tensorflow as tf\n",
        "import numpy as np\n",
        "from tensorflow import keras"
      ],
      "execution_count": 2,
      "outputs": [
        {
          "output_type": "display_data",
          "data": {
            "text/html": [
              "<p style=\"color: red;\">\n",
              "The default version of TensorFlow in Colab will soon switch to TensorFlow 2.x.<br>\n",
              "We recommend you <a href=\"https://www.tensorflow.org/guide/migrate\" target=\"_blank\">upgrade</a> now \n",
              "or ensure your notebook will continue to use TensorFlow 1.x via the <code>%tensorflow_version 1.x</code> magic:\n",
              "<a href=\"https://colab.research.google.com/notebooks/tensorflow_version.ipynb\" target=\"_blank\">more info</a>.</p>\n"
            ],
            "text/plain": [
              "<IPython.core.display.HTML object>"
            ]
          },
          "metadata": {
            "tags": []
          }
        }
      ]
    },
    {
      "cell_type": "code",
      "metadata": {
        "id": "mIMSCSKH36a2",
        "colab_type": "code",
        "colab": {
          "base_uri": "https://localhost:8080/",
          "height": 228
        },
        "outputId": "1617a251-e048-46f0-e897-401c52e8c684"
      },
      "source": [
        "(train_images, train_labels), (test_images, test_labels) = tf.keras.datasets.fashion_mnist.load_data()\n",
        "print(\"train_images shape:\", train_images.shape)\n",
        "print(\"test_images shape:\", test_images.shape)\n",
        "print(\"train_labels shape:\", train_labels.shape)\n",
        "print(\"test_labels shape:\", test_labels.shape)\n",
        "\n",
        "train_images = train_images / 255\n",
        "test_images = test_images / 255"
      ],
      "execution_count": 3,
      "outputs": [
        {
          "output_type": "stream",
          "text": [
            "Downloading data from https://storage.googleapis.com/tensorflow/tf-keras-datasets/train-labels-idx1-ubyte.gz\n",
            "32768/29515 [=================================] - 0s 0us/step\n",
            "Downloading data from https://storage.googleapis.com/tensorflow/tf-keras-datasets/train-images-idx3-ubyte.gz\n",
            "26427392/26421880 [==============================] - 0s 0us/step\n",
            "Downloading data from https://storage.googleapis.com/tensorflow/tf-keras-datasets/t10k-labels-idx1-ubyte.gz\n",
            "8192/5148 [===============================================] - 0s 0us/step\n",
            "Downloading data from https://storage.googleapis.com/tensorflow/tf-keras-datasets/t10k-images-idx3-ubyte.gz\n",
            "4423680/4422102 [==============================] - 0s 0us/step\n",
            "train_images shape: (60000, 28, 28)\n",
            "test_images shape: (10000, 28, 28)\n",
            "train_labels shape: (60000,)\n",
            "test_labels shape: (10000,)\n"
          ],
          "name": "stdout"
        }
      ]
    },
    {
      "cell_type": "code",
      "metadata": {
        "id": "wuD61-Xn5Rqs",
        "colab_type": "code",
        "colab": {
          "base_uri": "https://localhost:8080/",
          "height": 90
        },
        "outputId": "0da5eea2-47e9-4c8e-bbf7-d40acf2a73bc"
      },
      "source": [
        "model = tf.keras.models.Sequential()\n",
        "model.add(keras.layers.Flatten(input_shape = (28,28))),\n",
        "model.add(keras.layers.Dense(64,activation='relu')),\n",
        "model.add(keras.layers.Dense(10,activation='softmax'))\n"
      ],
      "execution_count": 6,
      "outputs": [
        {
          "output_type": "stream",
          "text": [
            "WARNING:tensorflow:From /tensorflow-1.15.0/python3.6/tensorflow_core/python/ops/resource_variable_ops.py:1630: calling BaseResourceVariable.__init__ (from tensorflow.python.ops.resource_variable_ops) with constraint is deprecated and will be removed in a future version.\n",
            "Instructions for updating:\n",
            "If using Keras pass *_constraint arguments to layers.\n"
          ],
          "name": "stdout"
        }
      ]
    },
    {
      "cell_type": "code",
      "metadata": {
        "id": "FHKn2I756MtM",
        "colab_type": "code",
        "colab": {
          "base_uri": "https://localhost:8080/",
          "height": 263
        },
        "outputId": "be3e20eb-dd8b-4725-ad9e-c30d8e8ef89f"
      },
      "source": [
        "model.summary()"
      ],
      "execution_count": 7,
      "outputs": [
        {
          "output_type": "stream",
          "text": [
            "Model: \"sequential_2\"\n",
            "_________________________________________________________________\n",
            "Layer (type)                 Output Shape              Param #   \n",
            "=================================================================\n",
            "flatten (Flatten)            (None, 784)               0         \n",
            "_________________________________________________________________\n",
            "dense (Dense)                (None, 64)                50240     \n",
            "_________________________________________________________________\n",
            "dense_1 (Dense)              (None, 10)                650       \n",
            "=================================================================\n",
            "Total params: 50,890\n",
            "Trainable params: 50,890\n",
            "Non-trainable params: 0\n",
            "_________________________________________________________________\n"
          ],
          "name": "stdout"
        }
      ]
    },
    {
      "cell_type": "code",
      "metadata": {
        "id": "DsZQZiyX6Xyy",
        "colab_type": "code",
        "colab": {}
      },
      "source": [
        "model.compile(optimizer='adam',\n",
        "              loss = 'sparse_categorical_crossentropy',\n",
        "              metrics=['accuracy'])"
      ],
      "execution_count": 0,
      "outputs": []
    },
    {
      "cell_type": "code",
      "metadata": {
        "id": "oejRct3n6Rb0",
        "colab_type": "code",
        "colab": {
          "base_uri": "https://localhost:8080/",
          "height": 755
        },
        "outputId": "347d4550-f1db-4928-a179-1cf87f3587c7"
      },
      "source": [
        "model.fit(train_images, train_labels, epochs=20, batch_size=128, shuffle=True)"
      ],
      "execution_count": 10,
      "outputs": [
        {
          "output_type": "stream",
          "text": [
            "Train on 60000 samples\n",
            "Epoch 1/20\n",
            "60000/60000 [==============================] - 3s 46us/sample - loss: 0.5937 - acc: 0.7997\n",
            "Epoch 2/20\n",
            "60000/60000 [==============================] - 1s 18us/sample - loss: 0.4246 - acc: 0.8532\n",
            "Epoch 3/20\n",
            "60000/60000 [==============================] - 1s 19us/sample - loss: 0.3818 - acc: 0.8664\n",
            "Epoch 4/20\n",
            "60000/60000 [==============================] - 1s 18us/sample - loss: 0.3594 - acc: 0.8731\n",
            "Epoch 5/20\n",
            "60000/60000 [==============================] - 1s 18us/sample - loss: 0.3419 - acc: 0.8791\n",
            "Epoch 6/20\n",
            "60000/60000 [==============================] - 1s 18us/sample - loss: 0.3282 - acc: 0.8831\n",
            "Epoch 7/20\n",
            "60000/60000 [==============================] - 1s 18us/sample - loss: 0.3156 - acc: 0.8873\n",
            "Epoch 8/20\n",
            "60000/60000 [==============================] - 1s 18us/sample - loss: 0.3056 - acc: 0.8906\n",
            "Epoch 9/20\n",
            "60000/60000 [==============================] - 1s 18us/sample - loss: 0.2990 - acc: 0.8927\n",
            "Epoch 10/20\n",
            "60000/60000 [==============================] - 1s 18us/sample - loss: 0.2868 - acc: 0.8959\n",
            "Epoch 11/20\n",
            "60000/60000 [==============================] - 1s 18us/sample - loss: 0.2815 - acc: 0.8981\n",
            "Epoch 12/20\n",
            "60000/60000 [==============================] - 1s 18us/sample - loss: 0.2787 - acc: 0.8983\n",
            "Epoch 13/20\n",
            "60000/60000 [==============================] - 1s 19us/sample - loss: 0.2695 - acc: 0.9022\n",
            "Epoch 14/20\n",
            "60000/60000 [==============================] - 1s 18us/sample - loss: 0.2651 - acc: 0.9037\n",
            "Epoch 15/20\n",
            "60000/60000 [==============================] - 1s 18us/sample - loss: 0.2610 - acc: 0.9046\n",
            "Epoch 16/20\n",
            "60000/60000 [==============================] - 1s 18us/sample - loss: 0.2531 - acc: 0.9076\n",
            "Epoch 17/20\n",
            "60000/60000 [==============================] - 1s 18us/sample - loss: 0.2478 - acc: 0.9098\n",
            "Epoch 18/20\n",
            "60000/60000 [==============================] - 1s 18us/sample - loss: 0.2443 - acc: 0.9115\n",
            "Epoch 19/20\n",
            "60000/60000 [==============================] - 1s 18us/sample - loss: 0.2400 - acc: 0.9123\n",
            "Epoch 20/20\n",
            "60000/60000 [==============================] - 1s 18us/sample - loss: 0.2365 - acc: 0.9134\n"
          ],
          "name": "stdout"
        },
        {
          "output_type": "execute_result",
          "data": {
            "text/plain": [
              "<tensorflow.python.keras.callbacks.History at 0x7f9c358033c8>"
            ]
          },
          "metadata": {
            "tags": []
          },
          "execution_count": 10
        }
      ]
    },
    {
      "cell_type": "code",
      "metadata": {
        "id": "E6Coman36jps",
        "colab_type": "code",
        "colab": {}
      },
      "source": [
        ""
      ],
      "execution_count": 0,
      "outputs": []
    },
    {
      "cell_type": "code",
      "metadata": {
        "id": "DttquYlL6qnd",
        "colab_type": "code",
        "colab": {
          "base_uri": "https://localhost:8080/",
          "height": 70
        },
        "outputId": "11024982-cb2c-46a9-f1bc-b976427acd1b"
      },
      "source": [
        "loss, accuracy = model.evaluate(test_images, test_labels)\n",
        "print(\"Test Loss:\", loss)\n",
        "print(\"Test Accuracy:\", accuracy)"
      ],
      "execution_count": 11,
      "outputs": [
        {
          "output_type": "stream",
          "text": [
            "10000/10000 [==============================] - 0s 45us/sample - loss: 0.3317 - acc: 0.8814\n",
            "Test Loss: 0.331745082950592\n",
            "Test Accuracy: 0.8814\n"
          ],
          "name": "stdout"
        }
      ]
    }
  ]
}